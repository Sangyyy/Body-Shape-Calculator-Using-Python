{
 "cells": [
  {
   "cell_type": "markdown",
   "id": "87a03ca1",
   "metadata": {},
   "source": [
    " ## Body Shape Calculator Using Python"
   ]
  },
  {
   "cell_type": "code",
   "execution_count": 4,
   "id": "9abd410c",
   "metadata": {},
   "outputs": [
    {
     "name": "stdout",
     "output_type": "stream",
     "text": [
      "Enter your name: abc\n",
      "Enter your bust size in cm: 90\n",
      "Enter your waist size in cm: 80\n",
      "Enter your high hip size in cm : 90\n",
      "Enter your hip size in cm : 90\n",
      "abc, Body shape is hourglass\n",
      "Thank you for using the body shape calculator.\n"
     ]
    }
   ],
   "source": [
    "try:\n",
    "    name = input(\"Enter your name: \")\n",
    "    \n",
    "    # Ask for unit selection\n",
    "\n",
    "    bust_size = float(input(\"Enter your bust size in cm: \"))\n",
    "    \n",
    "    waist_size = float(input(f\"Enter your waist size in cm: \"))\n",
    "    \n",
    "    high_hip_size = float(input(f\"Enter your high hip size in cm : \"))\n",
    "    \n",
    "    hip_size = float(input(f\"Enter your hip size in cm : \"))\n",
    "\n",
    "    \n",
    "    if (bust_size <= 0) or (waist_size <= 0) or (high_hip_size <= 0) or (hip_size <= 0):\n",
    "        raise ValueError(\"Measurements must be positive numbers.\")\n",
    "          \n",
    "    # Check if measurements are within a valid range\n",
    "    if((bust_size - hip_size) <= 1) and ((hip_size - bust_size) < 3.6) and ((bust_size - waist_size) >= 9) or ((hip_size - waist_size) >= 10):\n",
    "        print(name + \", Body shape is hourglass\")\n",
    "    elif((hip_size - bust_size) >= 3.6) and ((hip_size - bust_size) < 10) and ((hip_size - waist_size) >= 9) and ((high_hip_size/waist_size) < 1.193):\n",
    "        print(name + \", Body shape is bottom hourglass\")\n",
    "    elif((bust_size - hip_size) > 1) and ((bust_size - hip_size) < 10) and ((bust_size - waist_size) >= 9):\n",
    "        print(name + \", Body shape is top hourglass\")     \n",
    "    elif((hip_size - bust_size) > 2) and ((hip_size - waist_size) >= 7) and ((high_hip_size/waist_size) >= 1.193):\n",
    "        print(name + \", Body shape is spoon\") \n",
    "    elif((hip_size - bust_size) >= 3.6) and ((hip_size - waist_size) < 9):\n",
    "        print(name + \", Body shape is triangle\") \n",
    "    elif((bust_size - hip_size) >= 3.6) and ((bust_size - waist_size) < 9):\n",
    "        print(name + \", Body shape is inverted triangle\") \n",
    "    elif((hip_size - bust_size) < 3.6) and ((bust_size - hip_size) < 3.6) and ((bust_size - waist_size) < 9) and ((hip_size - waist_size) < 10):\n",
    "        print(name + \", Body shape is rectangle\") \n",
    "    else:\n",
    "        print(\"\"\"Unfortunately, this calculator was unable to classify your body shape within one of the \"seven female body shapes.\" Each individual is unique, and this calculator is unable to consider all possibilities.\"\"\")\n",
    "\n",
    "except ValueError as ve:\n",
    "    print(\"Error:\", ve)\n",
    "    print(\"Please enter valid numeric measurements.\")\n",
    "\n",
    "except KeyboardInterrupt:\n",
    "    print(\"\\nProgram terminated by the user.\")\n",
    "\n",
    "finally:\n",
    "    print(\"Thank you for using the body shape calculator.\")\n"
   ]
  },
  {
   "cell_type": "code",
   "execution_count": null,
   "id": "2cc04a84",
   "metadata": {},
   "outputs": [],
   "source": []
  }
 ],
 "metadata": {
  "kernelspec": {
   "display_name": "Python 3 (ipykernel)",
   "language": "python",
   "name": "python3"
  },
  "language_info": {
   "codemirror_mode": {
    "name": "ipython",
    "version": 3
   },
   "file_extension": ".py",
   "mimetype": "text/x-python",
   "name": "python",
   "nbconvert_exporter": "python",
   "pygments_lexer": "ipython3",
   "version": "3.9.12"
  }
 },
 "nbformat": 4,
 "nbformat_minor": 5
}
